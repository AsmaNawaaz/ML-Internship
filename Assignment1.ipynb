{
 "cells": [
  {
   "cell_type": "markdown",
   "id": "91745a31",
   "metadata": {},
   "source": [
    " Name : S.Asma\n",
    "\n",
    "Email : asmabbashu@gmail.com\n",
    "\n",
    "Contact : 7997812657\n",
    "\n",
    "College : G.Pullaiah College Of Engineering And Technology,Kurnool,Andhra Pradesh."
   ]
  },
  {
   "cell_type": "markdown",
   "id": "a1379a50",
   "metadata": {},
   "source": [
    "1. A company decided to give bonus of 5% to employee if his/her year of service is \n",
    "more than 5 years. Ask user for their salary and year of service and print the net \n",
    "bonus amount"
   ]
  },
  {
   "cell_type": "code",
   "execution_count": 2,
   "id": "db3a80aa",
   "metadata": {},
   "outputs": [
    {
     "name": "stdout",
     "output_type": "stream",
     "text": [
      "Please enter salay : 100000\n",
      "Please enter year of service : 6\n",
      "Bonus is  5000.0\n",
      "total amount of salary is  105000.0\n"
     ]
    }
   ],
   "source": [
    "employee_salary = int(input(\"Please enter salay : \"))\n",
    "employee_yearofservice = int(input(\"Please enter year of service : \"))\n",
    "if employee_yearofservice > 5:\n",
    "    Bonus=employee_salary*0.05\n",
    "    total_salary=employee_salary+Bonus\n",
    "print(\"Bonus is \",Bonus)\n",
    "print(\"total amount of salary is \",total_salary)"
   ]
  },
  {
   "cell_type": "markdown",
   "id": "60e4f852",
   "metadata": {},
   "source": [
    "2. A school has following rules for grading system:\n",
    "a. Below 25 - F\n",
    "b. 25 to 45 - E\n",
    "c. 45 to 50 - D\n",
    "d. 50 to 60 - C\n",
    "e. 60 to 80 - B\n",
    "f. Above 80 - A\n",
    "Ask user to enter marks and print the corresponding grade."
   ]
  },
  {
   "cell_type": "code",
   "execution_count": 3,
   "id": "7d0dae5a",
   "metadata": {},
   "outputs": [
    {
     "name": "stdout",
     "output_type": "stream",
     "text": [
      "Please enter marks : 97\n",
      "A\n"
     ]
    }
   ],
   "source": [
    "student_marks=int(input(\"Please enter marks : \"))\n",
    "if student_marks < 25 :\n",
    "    print(\"F\")\n",
    "elif student_marks>=25 and student_marks<=45:\n",
    "    print(\"E\")\n",
    "elif student_marks>=45 and student_marks<=50:\n",
    "    print(\"D\")\n",
    "elif student_marks>=50 and student_marks<=60:\n",
    "    print(\"C\")\n",
    "elif student_marks>=60 and student_marks<=80:\n",
    "    print(\"B\")\n",
    "elif student_marks>=80:\n",
    "    print(\"A\")"
   ]
  },
  {
   "cell_type": "markdown",
   "id": "3e104e6e",
   "metadata": {},
   "source": [
    "3. A student will not be allowed to sit in exam if his/her attendence is less than 75%.\n",
    "Take following input from user\n",
    "Number of classes held\n",
    "Number of classes attended.\n",
    "And print\n",
    "percentage of class attended\n",
    "Is student is allowed to sit in exam or not."
   ]
  },
  {
   "cell_type": "code",
   "execution_count": 4,
   "id": "3575cbc6",
   "metadata": {},
   "outputs": [
    {
     "name": "stdout",
     "output_type": "stream",
     "text": [
      "Number of classes held : 400\n",
      "Number of classes attended : 356\n",
      "89.0\n",
      "student is allowed to sit in exam \n"
     ]
    }
   ],
   "source": [
    "classes_held=int(input(\"Number of classes held : \"))\n",
    "classes_attended=int(input(\"Number of classes attended : \"))\n",
    "percentage=(classes_attended/classes_held) * 100\n",
    "print(percentage)\n",
    "if percentage<75 :\n",
    "    print(\"student is not allowed to sit in exam \")\n",
    "else:\n",
    "    print(\"student is allowed to sit in exam \")\n",
    "\n"
   ]
  },
  {
   "cell_type": "markdown",
   "id": "25c6782a",
   "metadata": {},
   "source": [
    "4. Ask user to enter age, sex ( M or F ), marital status ( Y or N ) and then using \n",
    "following rules print their place of service.\n",
    "if employee is female, then she will work only in urban areas.\n",
    "if employee is a male and age is in between 20 to 40 then he may work in anywhere\n",
    "if employee is male and age is in between 40 t0 60 then he will work in urban areas \n",
    "only."
   ]
  },
  {
   "cell_type": "code",
   "execution_count": 5,
   "id": "4e82e02b",
   "metadata": {},
   "outputs": [
    {
     "name": "stdout",
     "output_type": "stream",
     "text": [
      "Enter age :23\n",
      "Enter gender M/F :f\n",
      "Enter  marital status Y /N :n\n",
      "she will work only in urban areas\n"
     ]
    }
   ],
   "source": [
    "age=int(input(\"Enter age :\"))\n",
    "gender=input(\"Enter gender M/F :\")\n",
    "marital_status=input(\"Enter  marital status Y /N :\")\n",
    "if gender==\"F \"or gender==\"f\":\n",
    "    print(\"she will work only in urban areas\")\n",
    "elif gender==\"M\" or gender==\"m\" and age>20 and age<40:\n",
    "    print(\"he may work in anywhere \")\n",
    "elif gender==\"M\" or gender==\"m\" and  age>40 and age<60:\n",
    "    print(\"he will work in urban areas only\")\n",
    "else:\n",
    "    print(\"ERROR\")\n"
   ]
  },
  {
   "cell_type": "markdown",
   "id": "7c98fa8d",
   "metadata": {},
   "source": [
    "5. Take 10 integers from keyboard using loop and print their average value on the \n",
    "screen."
   ]
  },
  {
   "cell_type": "code",
   "execution_count": 6,
   "id": "08fd5f8f",
   "metadata": {},
   "outputs": [
    {
     "name": "stdout",
     "output_type": "stream",
     "text": [
      "1\n",
      "2\n",
      "3\n",
      "4\n",
      "5\n",
      "6\n",
      "7\n",
      "8\n",
      "9\n",
      "10\n",
      "5.5\n"
     ]
    }
   ],
   "source": [
    "n=10\n",
    "sum=0\n",
    "for i in range(n):\n",
    "    c=int(input())\n",
    "    sum+=c\n",
    "avg = sum/n\n",
    "print(avg)\n",
    "    "
   ]
  },
  {
   "cell_type": "markdown",
   "id": "6fbc53e2",
   "metadata": {},
   "source": [
    "6. Write a program to calculate factorial of a number.\n"
   ]
  },
  {
   "cell_type": "code",
   "execution_count": 7,
   "id": "52acb358",
   "metadata": {},
   "outputs": [
    {
     "name": "stdout",
     "output_type": "stream",
     "text": [
      "5\n",
      "120\n"
     ]
    }
   ],
   "source": [
    "f=int(input())\n",
    "fact=1\n",
    "for i in range(1,f+1):\n",
    "    fact*=i\n",
    "print(fact)"
   ]
  },
  {
   "cell_type": "markdown",
   "id": "29fa0dc6",
   "metadata": {},
   "source": [
    "7. Take integer inputs from user until he/she presses q ( Ask to press q to quit after \n",
    "every integer input ). Print average and product of all number"
   ]
  },
  {
   "cell_type": "code",
   "execution_count": 8,
   "id": "c67b4f8c",
   "metadata": {},
   "outputs": [
    {
     "name": "stdout",
     "output_type": "stream",
     "text": [
      "enter a number : 3\n",
      "4\n",
      "enter a number : 8\n",
      "8\n",
      "enter a number : 8\n",
      "8\n",
      "enter a number : q\n",
      "Average :  6.666666666666667\n",
      "Product :  256\n"
     ]
    }
   ],
   "source": [
    "c=0\n",
    "sum=0\n",
    "prod=1\n",
    "while True:\n",
    "    n=input('enter a number : ')\n",
    "    if n == 'q':\n",
    "        break\n",
    "    n=int(input())\n",
    "    sum += n\n",
    "    prod *= n\n",
    "    c+=1\n",
    "print(\"Average : \",sum/c)\n",
    "print(\"Product : \",prod)"
   ]
  },
  {
   "cell_type": "markdown",
   "id": "eba3f16c",
   "metadata": {},
   "source": [
    "8.A three digit number is called Armstrong number if sum of cube of its digit is equal to number itself. E.g.- 153 is an Armstrong number because (13)+(53)+(33) = 153. Write all Armstrong numbers between 100 to 500."
   ]
  },
  {
   "cell_type": "code",
   "execution_count": 9,
   "id": "d1baf66c",
   "metadata": {},
   "outputs": [
    {
     "name": "stdout",
     "output_type": "stream",
     "text": [
      "153\n",
      "370\n",
      "371\n",
      "407\n"
     ]
    }
   ],
   "source": [
    "a=100\n",
    "b=500\n",
    "for i in range(a,b+1):\n",
    "    temp = i\n",
    "    sum=0\n",
    "    order = len(str(i))\n",
    "    while temp>0:\n",
    "        dig = temp%10\n",
    "        sum += dig ** order\n",
    "        temp //= 10\n",
    "    if i == sum:\n",
    "        print(i)"
   ]
  },
  {
   "cell_type": "markdown",
   "id": "812c7521",
   "metadata": {},
   "source": [
    "9.Write a program to find the length of the string \"refrigerator\" without using len function.\n"
   ]
  },
  {
   "cell_type": "code",
   "execution_count": 10,
   "id": "3a2076a2",
   "metadata": {},
   "outputs": [
    {
     "name": "stdout",
     "output_type": "stream",
     "text": [
      "12\n"
     ]
    }
   ],
   "source": [
    "a=\"refrigerator\"\n",
    "count=0\n",
    "for i in a:\n",
    "    count+=1\n",
    "print(count)"
   ]
  },
  {
   "cell_type": "markdown",
   "id": "ddf255e3",
   "metadata": {},
   "source": [
    "10.Write a program that takes your full name as input and displays the abbreviations of the first and middle names except the last name which is displayed as it is. For example, if your name is Robert Brett Roser, then the output should be R.B.Roser"
   ]
  },
  {
   "cell_type": "code",
   "execution_count": 11,
   "id": "f39fb825",
   "metadata": {},
   "outputs": [
    {
     "name": "stdout",
     "output_type": "stream",
     "text": [
      "Robert Brett Roser\n",
      "R.B.Roser\n"
     ]
    }
   ],
   "source": [
    "s=input()\n",
    "l=s.split()\n",
    "print(l[0][0]+'.'+ l[1][0] + '.'+ l[2])"
   ]
  }
 ],
 "metadata": {
  "kernelspec": {
   "display_name": "Python 3",
   "language": "python",
   "name": "python3"
  },
  "language_info": {
   "codemirror_mode": {
    "name": "ipython",
    "version": 3
   },
   "file_extension": ".py",
   "mimetype": "text/x-python",
   "name": "python",
   "nbconvert_exporter": "python",
   "pygments_lexer": "ipython3",
   "version": "3.8.8"
  }
 },
 "nbformat": 4,
 "nbformat_minor": 5
}
